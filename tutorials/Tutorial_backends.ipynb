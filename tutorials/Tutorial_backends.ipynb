{
 "cells": [
  {
   "cell_type": "markdown",
   "metadata": {},
   "source": [
    "# Tutorial: Accelerating pygpc by using different computing backends\n",
    "\n",
    "This tutorial shows how to accelerate pygpc by choosing different computing backends. At the moment, the following backends are available:\n",
    "1. Implementation in **Python**: pygpc names this backend **python**   \n",
    "2. Implementation in **C++**: pygpc names this backend **cpu**\n",
    "3. Implementation in **C++** and **OpenMP**: pygpc names this backend **omp**\n",
    "4. Implementation in **CUDA-C++**: pygpc names this backend **cuda**, an Nvidia GPU is required"
   ]
  },
  {
   "cell_type": "markdown",
   "metadata": {},
   "source": [
    "# Let's get started\n",
    "\n",
    "## Setting up benchmark parameters\n",
    "We define the number of samples, the dimensionality of the parameter space and the maximum number of basis functions. This will determine the size of the gPC matrix and therefore the compute time."
   ]
  },
  {
   "cell_type": "code",
   "execution_count": 1,
   "metadata": {},
   "outputs": [],
   "source": [
    "n_dim = 4\n",
    "n_samples = 100000\n",
    "n_basis_order = 8\n",
    "n_coeffs = 100\n",
    "n_iterations = 3"
   ]
  },
  {
   "cell_type": "markdown",
   "metadata": {},
   "source": [
    "## Setting up problem and grid"
   ]
  },
  {
   "cell_type": "code",
   "execution_count": 2,
   "metadata": {
    "scrolled": false
   },
   "outputs": [],
   "source": [
    "import pygpc\n",
    "import numpy as np\n",
    "from collections import OrderedDict\n",
    "\n",
    "# define model\n",
    "model = pygpc.testfunctions.DiscontinuousRidgeManufactureDecay()\n",
    "\n",
    "# define parameters\n",
    "parameters = OrderedDict()\n",
    "for i_dim in range(n_dim):\n",
    "    parameters[\"x\"+str(i_dim)] = pygpc.Beta(pdf_shape=[1, 1], pdf_limits=[1.2, 2])\n",
    "\n",
    "# define problem\n",
    "problem = pygpc.Problem(model, parameters)\n",
    "\n",
    "# define grid\n",
    "options = dict()\n",
    "grid = pygpc.Random(parameters_random=problem.parameters_random,\n",
    "                                      n_grid=n_samples,\n",
    "                                      options={\"n_grid\": n_samples, \"seed\": 1})\n",
    "\n",
    "# define gPC\n",
    "gpc = pygpc.Reg(problem=problem,\n",
    "                order=[n_basis_order] * n_dim,\n",
    "                order_max=n_basis_order,\n",
    "                order_max_norm=1,\n",
    "                interaction_order=n_dim,\n",
    "                interaction_order_current=n_dim,\n",
    "                options=options)\n",
    "gpc.grid = grid\n",
    "\n",
    "# get number of basis functions\n",
    "n_basis = pygpc.get_num_coeffs_sparse([n_basis_order] * n_dim, n_basis_order, n_dim, n_dim, n_dim, 1)\n",
    "\n",
    "# create coefficient matrix\n",
    "coeffs = np.ones((len(gpc.basis.b), n_coeffs))"
   ]
  },
  {
   "cell_type": "markdown",
   "metadata": {},
   "source": [
    "## Performance comparison between the backends\n",
    "Per default the **omp**-backend is set. Let's try them all and see how the performance changes."
   ]
  },
  {
   "cell_type": "code",
   "execution_count": 27,
   "metadata": {},
   "outputs": [],
   "source": [
    "import time\n",
    "backends = [\"python\", \"cpu\", \"omp\", \"cuda\"]\n",
    "labels = [\"Python\", \"C++\", \"C++ OpenMP\", \"CUDA\"]\n",
    "\n",
    "time_create_gpc_matrix = OrderedDict()\n",
    "time_get_approximation = OrderedDict()\n",
    "\n",
    "for b in backends:\n",
    "    time_create_gpc_matrix[b] = []\n",
    "    time_get_approximation[b] = []\n",
    "\n",
    "# warmup to wake gpu up from idle\n",
    "for _ in range(10):\n",
    "    gpc.backend = \"cuda\"\n",
    "    gpc.create_gpc_matrix(b=gpc.basis.b, x=gpc.grid.coords_norm)\n",
    "    \n",
    "# benchmark\n",
    "for _ in range(n_iterations):\n",
    "    # python backend\n",
    "    for b in backends:\n",
    "        gpc.backend = b\n",
    "    \n",
    "        # benchmark create_gpc_matrix\n",
    "        start = time.time()\n",
    "        gpc.create_gpc_matrix(b=gpc.basis.b, x=gpc.grid.coords_norm)\n",
    "        stop = time.time()\n",
    "        time_create_gpc_matrix[b].append(stop-start)\n",
    "    \n",
    "        # benchmark get_approximation\n",
    "        start = time.time()\n",
    "        gpc.get_approximation(coeffs, x=gpc.grid.coords_norm)\n",
    "        stop = time.time()\n",
    "        time_get_approximation[b].append(stop-start)"
   ]
  },
  {
   "cell_type": "markdown",
   "metadata": {},
   "source": [
    "## Results"
   ]
  },
  {
   "cell_type": "code",
   "execution_count": 26,
   "metadata": {},
   "outputs": [
    {
     "data": {
      "image/png": "[encoded data removed]",
      "text/plain": [
       "<Figure size 432x288 with 1 Axes>"
      ]
     },
     "metadata": {
      "needs_background": "light"
     },
     "output_type": "display_data"
    }
   ],
   "source": [
    "import seaborn as sns\n",
    "from matplotlib import pyplot as plt\n",
    "from matplotlib import cm\n",
    "\n",
    "# plot results\n",
    "plt.figure()\n",
    "for ind, b in enumerate(backends):   \n",
    "    plt.bar(ind, np.mean(time_get_approximation[b]), yerr=np.std(time_get_approximation[b]), color = sns.color_palette(\"muted\", len(backends))[ind])\n",
    "    plt.bar(ind, np.mean(time_create_gpc_matrix[b]), yerr=np.std(time_create_gpc_matrix[b]), color = sns.color_palette(\"pastel\", len(backends))[ind])\n",
    "        \n",
    "plt.ylabel(\"Computation time in s\")\n",
    "plt.xticks(range(len(labels)), labels)\n",
    "plt.title(\"n_samples: {}, n_basis: {}\".format(n_samples, n_basis))\n",
    "plt.show()"
   ]
  },
  {
   "cell_type": "code",
   "execution_count": null,
   "metadata": {},
   "outputs": [],
   "source": []
  }
 ],
 "metadata": {
  "kernelspec": {
   "display_name": "Python 3",
   "language": "python",
   "name": "python3"
  },
  "language_info": {
   "codemirror_mode": {
    "name": "ipython",
    "version": 3
   },
   "file_extension": ".py",
   "mimetype": "text/x-python",
   "name": "python",
   "nbconvert_exporter": "python",
   "pygments_lexer": "ipython3",
   "version": "3.7.6"
  }
 },
 "nbformat": 4,
 "nbformat_minor": 4
}
