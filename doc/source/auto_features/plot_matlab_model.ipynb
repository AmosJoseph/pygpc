{
  "cells": [
    {
      "cell_type": "code",
      "execution_count": null,
      "metadata": {
        "collapsed": false
      },
      "outputs": [],
      "source": [
        "%matplotlib inline"
      ]
    },
    {
      "cell_type": "markdown",
      "metadata": {},
      "source": [
        "\nAnalyzing MATLAB models with pygpc\n==================================\n\nYou can easily investigate your models written in MATLAB with pygpc. In order to do so, you have to\ninstall the MATLAB Engine API for Python.\n"
      ]
    },
    {
      "cell_type": "code",
      "execution_count": null,
      "metadata": {
        "collapsed": false
      },
      "outputs": [],
      "source": [
        "import matplotlib.pyplot as plt\n\n_ = plt.figure(figsize=[15, 7])\n_ = plt.imshow(plt.imread(\"../images/python_matlab_interface.png\"))\n_ = plt.axis('off')"
      ]
    },
    {
      "cell_type": "markdown",
      "metadata": {},
      "source": [
        "**Install MATLAB Engine API for Python**\n\nTo start the MATLAB engine within a Python session, you first must install the engine API as a Python package.\nMATLAB provides a standard Python setup.py file for building and installing the engine using the distutils module.\nYou can use the same setup.py commands to build and install the engine on Windows, Mac, or Linux systems.\n\nBefore you install, verify your Python and MATLAB configurations.\n\n- Check that your system has a supported version of Python and MATLAB R2014b or later.\nTo check that Python is installed on your system, run Python at the operating system prompt.\n- Add the folder that contains the Python interpreter to your path, if it is not already there.\n- Find the path to the MATLAB folder. Start MATLAB and type matlabroot in the command window. Copy the path returned by matlabroot.\n\nTo install the engine API, choose one of the following. (You might need administrator privileges\nto execute these commands.)\n\n**Windows**\n\n.. code-block:: bash\n\n   > cd \"matlabroot\\extern\\engines\\python\"\n   > python setup.py install\n\n**macOS or Linux**\n\n.. code-block:: bash\n\n   > cd \"matlabroot/extern/engines/python\"\n   > python setup.py install\n\n**Withing MATLAB**\n\n.. code-block:: bash\n\n   cd (fullfile(matlabroot,'extern','engines','python'))\n   system('python setup.py install')\n\nAfter you installed the MATLAB Engine API for Python, you can set\n\n.. code-block:: python\n\n   options[\"matlab_model\"] = True\n\nin your gPC run-file.\n\nYou can find an example model-file in :code:`.../templates/MyModel_matlab.py` and the associated gPC\nrun-file in :code:`.../templates/MyGPC_matlab.py`.\n\nFor additional readings visit the `Calling MATLAB from Python\n<https://www.mathworks.com/help/matlab/matlab-engine-for-python.html?s_tid=CRUX_lftnav>`_ homepage.\n\nSetting up the Matlab model\n^^^^^^^^^^^^^^^^^^^^^^^^^^^\nIn the following, you see an example .m model file we want to analyze using pygpc:\n\n.. code-block:: matlab\n\n    % Three-dimensional test function of Ishigami.\n\n    function y = Ishigami(x1, x2, x3, a, b)\n\n    y = sin(x1) + a .* sin(x2).^2 + b .* x3.^4 .* sin(x1);\n\nUsing the model with pypgc\n^^^^^^^^^^^^^^^^^^^^^^^^^^\nIn order to call the Matlab function within a model of pygpc, we have to set up the model as shown below.\nDuring initialization we pass the function name \"fun_path\", which tells pygpc where to find the .m function.\nDuring computation, pygpc creates and passes a matlab_engine instance. Before the model can be called,\nthe input parameters from the parameters dictionary p have to be converted to lists the matlab engine can read.\nThe example shown below can be found in the templates folder of pygpc (`/templates/MyModel_matlab.py\n<../../../../templates/MyModel_matlab.py>`_)\n\n.. code-block:: python\n\n    import inspect\n    import numpy as np\n    import matlab.engine\n    from pygpc.AbstractModel import AbstractModel\n\n\n    class MyModel_matlab(AbstractModel):\n        '''\n        MyModel evaluates something using Matlab. The parameters of the model (constants and random parameters)\n        are stored in the dictionary p. Their type is defined during the problem definition.\n\n        Parameters\n        ----------\n        p[\"x1\"]: float or ndarray of float [n_grid]\n            Parameter 1\n        p[\"x2\"]: float or ndarray of float [n_grid]\n            Parameter 2\n        p[\"x3\"]: float or ndarray of float [n_grid]\n            Parameter 3\n\n        Returns\n        -------\n        y: ndarray of float [n_grid x n_out]\n            Results of the n_out quantities of interest the gPC is conducted for\n        additional_data: dict or list of dict [n_grid]\n            Additional data, will be saved under its keys in the .hdf5 file during gPC simulations.\n            If multiple grid-points are evaluated in one function call, return a dict for every grid-point in a list\n        '''\n\n        def __init__(self, fun_path):\n            self.fun_path = fun_path\n            self.fname = inspect.getfile(inspect.currentframe())\n\n        def validate(self):\n            pass\n\n        def simulate(self, matlab_engine, process_id=None):\n\n            # add path of Matlab function\n            matlab_engine.addpath(self.fun_path, nargout=0)\n\n            # convert input parameters to matlab format (only lists can be converted)\n            x1 = matlab.double(np.array(self.p[\"x1\"]).tolist())\n            x2 = matlab.double(np.array(self.p[\"x2\"]).tolist())\n            x3 = matlab.double(np.array(self.p[\"x3\"]).tolist())\n            a = matlab.double(np.array(self.p[\"a\"]).tolist())\n            b = matlab.double(np.array(self.p[\"b\"]).tolist())\n\n            # call Matlab function\n            y = matlab_engine.Ishigami(x1, x2, x3, a, b)\n\n            # convert the output back to numpy and ensure that the output is [n_grid x n_out]\n            y = np.array(y).transpose()\n\n            if y.ndim == 0:\n                y = np.array([[y]])\n            elif y.ndim == 1:\n                y = y[:, np.newaxis]\n\n            # delete matlab engine after simulations because it can not be saved in the gpc object\n            del self.matlab_engine\n\n            return y\n"
      ]
    }
  ],
  "metadata": {
    "kernelspec": {
      "display_name": "Python 3",
      "language": "python",
      "name": "python3"
    },
    "language_info": {
      "codemirror_mode": {
        "name": "ipython",
        "version": 3
      },
      "file_extension": ".py",
      "mimetype": "text/x-python",
      "name": "python",
      "nbconvert_exporter": "python",
      "pygments_lexer": "ipython3",
      "version": "3.7.3"
    }
  },
  "nbformat": 4,
  "nbformat_minor": 0
}